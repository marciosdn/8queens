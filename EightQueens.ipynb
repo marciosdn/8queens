{
 "cells": [
  {
   "cell_type": "markdown",
   "metadata": {},
   "source": [
    "marciosdn\n",
    "2020-02-02\n",
    "\n",
    "Array solution 15863724 means:\n",
    "10000000\n",
    "00005000\n",
    "00000008\n",
    "00000600\n",
    "00300000\n",
    "00000070\n",
    "02000000\n",
    "00040000"
   ]
  },
  {
   "cell_type": "code",
   "execution_count": 1,
   "metadata": {},
   "outputs": [],
   "source": [
    "SIZE=8\n",
    "A=[0,0,0,0,0,0,0,0]\n",
    "s=0\n",
    "t=0"
   ]
  },
  {
   "cell_type": "code",
   "execution_count": 2,
   "metadata": {},
   "outputs": [],
   "source": [
    "def test(queen, col):\n",
    "    global t\n",
    "    t+=1\n",
    "    for i in range(1,queen):\n",
    "        if(A[queen-i-1]==col): return 0\n",
    "        if(A[queen-i-1]==col-i): return 0\n",
    "        if(A[queen-i-1]==col+i): return 0\n",
    "    return 1"
   ]
  },
  {
   "cell_type": "code",
   "execution_count": 3,
   "metadata": {},
   "outputs": [],
   "source": [
    "def play(queen):\n",
    "    global s\n",
    "    for col in range(1,SIZE+1):\n",
    "        if(test(queen,col)):\n",
    "            A[queen-1]=col\n",
    "            if(queen==SIZE):\n",
    "                s+=1\n",
    "                print(\"Solution: {}, {}, {}\".format(s,t,A))\n",
    "            else:\n",
    "                play(queen+1);\n",
    "            A[queen-1]=0"
   ]
  },
  {
   "cell_type": "code",
   "execution_count": 4,
   "metadata": {},
   "outputs": [
    {
     "name": "stdout",
     "output_type": "stream",
     "text": [
      "Solution: 1, 876, [1, 5, 8, 6, 3, 7, 2, 4]\n",
      "Solution: 2, 1140, [1, 6, 8, 3, 7, 4, 2, 5]\n",
      "Solution: 3, 1340, [1, 7, 4, 6, 8, 2, 5, 3]\n",
      "Solution: 4, 1476, [1, 7, 5, 8, 2, 4, 6, 3]\n",
      "Solution: 5, 1980, [2, 4, 6, 8, 3, 1, 7, 5]\n",
      "Solution: 6, 2380, [2, 5, 7, 1, 3, 8, 6, 4]\n",
      "Solution: 7, 2452, [2, 5, 7, 4, 1, 8, 6, 3]\n",
      "Solution: 8, 2732, [2, 6, 1, 7, 4, 8, 3, 5]\n",
      "Solution: 9, 2972, [2, 6, 8, 3, 1, 4, 7, 5]\n",
      "Solution: 10, 3236, [2, 7, 3, 6, 8, 5, 1, 4]\n",
      "Solution: 11, 3396, [2, 7, 5, 8, 1, 4, 6, 3]\n",
      "Solution: 12, 3732, [2, 8, 6, 1, 3, 5, 7, 4]\n",
      "Solution: 13, 4204, [3, 1, 7, 5, 8, 2, 4, 6]\n",
      "Solution: 14, 4420, [3, 5, 2, 8, 1, 7, 4, 6]\n",
      "Solution: 15, 4452, [3, 5, 2, 8, 6, 4, 7, 1]\n",
      "Solution: 16, 4492, [3, 5, 7, 1, 4, 2, 8, 6]\n",
      "Solution: 17, 4732, [3, 5, 8, 4, 1, 7, 2, 6]\n",
      "Solution: 18, 4812, [3, 6, 2, 5, 8, 1, 7, 4]\n",
      "Solution: 19, 4860, [3, 6, 2, 7, 1, 4, 8, 5]\n",
      "Solution: 20, 4884, [3, 6, 2, 7, 5, 1, 8, 4]\n",
      "Solution: 21, 4940, [3, 6, 4, 1, 8, 5, 7, 2]\n",
      "Solution: 22, 4980, [3, 6, 4, 2, 8, 5, 7, 1]\n",
      "Solution: 23, 5044, [3, 6, 8, 1, 4, 7, 5, 2]\n",
      "Solution: 24, 5068, [3, 6, 8, 1, 5, 7, 2, 4]\n",
      "Solution: 25, 5100, [3, 6, 8, 2, 4, 1, 7, 5]\n",
      "Solution: 26, 5316, [3, 7, 2, 8, 5, 1, 4, 6]\n",
      "Solution: 27, 5348, [3, 7, 2, 8, 6, 4, 1, 5]\n",
      "Solution: 28, 5716, [3, 8, 4, 7, 1, 6, 2, 5]\n",
      "Solution: 29, 6020, [4, 1, 5, 8, 2, 7, 3, 6]\n",
      "Solution: 30, 6044, [4, 1, 5, 8, 6, 3, 7, 2]\n",
      "Solution: 31, 6428, [4, 2, 5, 8, 6, 1, 3, 7]\n",
      "Solution: 32, 6500, [4, 2, 7, 3, 6, 8, 1, 5]\n",
      "Solution: 33, 6508, [4, 2, 7, 3, 6, 8, 5, 1]\n",
      "Solution: 34, 6540, [4, 2, 7, 5, 1, 8, 6, 3]\n",
      "Solution: 35, 6692, [4, 2, 8, 5, 7, 1, 3, 6]\n",
      "Solution: 36, 6732, [4, 2, 8, 6, 1, 3, 5, 7]\n",
      "Solution: 37, 6876, [4, 6, 1, 5, 2, 8, 3, 7]\n",
      "Solution: 38, 7004, [4, 6, 8, 2, 7, 1, 3, 5]\n",
      "Solution: 39, 7052, [4, 6, 8, 3, 1, 7, 5, 2]\n",
      "Solution: 40, 7300, [4, 7, 1, 8, 5, 2, 6, 3]\n",
      "Solution: 41, 7396, [4, 7, 3, 8, 2, 5, 1, 6]\n",
      "Solution: 42, 7460, [4, 7, 5, 2, 6, 1, 3, 8]\n",
      "Solution: 43, 7492, [4, 7, 5, 3, 1, 6, 8, 2]\n",
      "Solution: 44, 7596, [4, 8, 1, 3, 6, 2, 7, 5]\n",
      "Solution: 45, 7660, [4, 8, 1, 5, 7, 2, 6, 3]\n",
      "Solution: 46, 7828, [4, 8, 5, 3, 1, 7, 2, 6]\n",
      "Solution: 47, 7900, [5, 1, 4, 6, 8, 2, 7, 3]\n",
      "Solution: 48, 8068, [5, 1, 8, 4, 2, 7, 3, 6]\n",
      "Solution: 49, 8132, [5, 1, 8, 6, 3, 7, 2, 4]\n",
      "Solution: 50, 8236, [5, 2, 4, 6, 8, 3, 1, 7]\n",
      "Solution: 51, 8268, [5, 2, 4, 7, 3, 8, 6, 1]\n",
      "Solution: 52, 8332, [5, 2, 6, 1, 7, 4, 8, 3]\n",
      "Solution: 53, 8428, [5, 2, 8, 1, 4, 7, 3, 6]\n",
      "Solution: 54, 8676, [5, 3, 1, 6, 8, 2, 4, 7]\n",
      "Solution: 55, 8724, [5, 3, 1, 7, 2, 8, 6, 4]\n",
      "Solution: 56, 8852, [5, 3, 8, 4, 7, 1, 6, 2]\n",
      "Solution: 57, 8996, [5, 7, 1, 3, 8, 6, 4, 2]\n",
      "Solution: 58, 9036, [5, 7, 1, 4, 2, 8, 6, 3]\n",
      "Solution: 59, 9188, [5, 7, 2, 4, 8, 1, 3, 6]\n",
      "Solution: 60, 9220, [5, 7, 2, 6, 3, 1, 4, 8]\n",
      "Solution: 61, 9228, [5, 7, 2, 6, 3, 1, 8, 4]\n",
      "Solution: 62, 9300, [5, 7, 4, 1, 3, 8, 6, 2]\n",
      "Solution: 63, 9684, [5, 8, 4, 1, 3, 6, 2, 7]\n",
      "Solution: 64, 9708, [5, 8, 4, 1, 7, 2, 6, 3]\n",
      "Solution: 65, 10012, [6, 1, 5, 2, 8, 3, 7, 4]\n",
      "Solution: 66, 10380, [6, 2, 7, 1, 3, 5, 8, 4]\n",
      "Solution: 67, 10412, [6, 2, 7, 1, 4, 8, 5, 3]\n",
      "Solution: 68, 10628, [6, 3, 1, 7, 5, 8, 2, 4]\n",
      "Solution: 69, 10660, [6, 3, 1, 8, 4, 2, 7, 5]\n",
      "Solution: 70, 10684, [6, 3, 1, 8, 5, 2, 4, 7]\n",
      "Solution: 71, 10748, [6, 3, 5, 7, 1, 4, 2, 8]\n",
      "Solution: 72, 10788, [6, 3, 5, 8, 1, 4, 2, 7]\n",
      "Solution: 73, 10844, [6, 3, 7, 2, 4, 8, 1, 5]\n",
      "Solution: 74, 10868, [6, 3, 7, 2, 8, 5, 1, 4]\n",
      "Solution: 75, 10916, [6, 3, 7, 4, 1, 8, 2, 5]\n",
      "Solution: 76, 10996, [6, 4, 1, 5, 8, 2, 7, 3]\n",
      "Solution: 77, 11236, [6, 4, 2, 8, 5, 7, 1, 3]\n",
      "Solution: 78, 11276, [6, 4, 7, 1, 3, 5, 2, 8]\n",
      "Solution: 79, 11308, [6, 4, 7, 1, 8, 2, 5, 3]\n",
      "Solution: 80, 11524, [6, 8, 2, 4, 1, 7, 5, 3]\n",
      "Solution: 81, 11996, [7, 1, 3, 8, 6, 4, 2, 5]\n",
      "Solution: 82, 12332, [7, 2, 4, 1, 8, 5, 3, 6]\n",
      "Solution: 83, 12492, [7, 2, 6, 3, 1, 4, 8, 5]\n",
      "Solution: 84, 12756, [7, 3, 1, 6, 8, 5, 2, 4]\n",
      "Solution: 85, 12996, [7, 3, 8, 2, 5, 1, 6, 4]\n",
      "Solution: 86, 13276, [7, 4, 2, 5, 8, 1, 3, 6]\n",
      "Solution: 87, 13348, [7, 4, 2, 8, 6, 1, 3, 5]\n",
      "Solution: 88, 13748, [7, 5, 3, 1, 6, 8, 2, 4]\n",
      "Solution: 89, 14252, [8, 2, 4, 1, 7, 5, 3, 6]\n",
      "Solution: 90, 14388, [8, 2, 5, 3, 1, 7, 4, 6]\n",
      "Solution: 91, 14588, [8, 3, 1, 6, 2, 5, 7, 4]\n",
      "Solution: 92, 14852, [8, 4, 1, 3, 6, 2, 7, 5]\n"
     ]
    }
   ],
   "source": [
    "play(1)"
   ]
  },
  {
   "cell_type": "code",
   "execution_count": null,
   "metadata": {},
   "outputs": [],
   "source": []
  }
 ],
 "metadata": {
  "kernelspec": {
   "display_name": "Python 3",
   "language": "python",
   "name": "python3"
  },
  "language_info": {
   "codemirror_mode": {
    "name": "ipython",
    "version": 3
   },
   "file_extension": ".py",
   "mimetype": "text/x-python",
   "name": "python",
   "nbconvert_exporter": "python",
   "pygments_lexer": "ipython3",
   "version": "3.7.3"
  }
 },
 "nbformat": 4,
 "nbformat_minor": 2
}
